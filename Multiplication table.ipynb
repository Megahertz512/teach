{
 "cells": [
  {
   "cell_type": "markdown",
   "id": "3786d1f0",
   "metadata": {},
   "source": [
    "Your task, is to create N×N multiplication table, of size provided in parameter.\n",
    "\n",
    "For example, when given size is 3:\n",
    "\n",
    "1 2 3\n",
    "2 4 6\n",
    "3 6 9\n",
    "For the given example, the return value should be:\n",
    "\n",
    "[[1,2,3],[2,4,6],[3,6,9]]"
   ]
  },
  {
   "cell_type": "code",
   "execution_count": 5,
   "id": "a9483a11",
   "metadata": {},
   "outputs": [],
   "source": [
    "def multiplication_table(size):\n",
    "    b = []\n",
    "    a = range(1,size + 1)\n",
    "    for i in a:\n",
    "        b.append([i * j for j in a])\n",
    "    return b"
   ]
  },
  {
   "cell_type": "code",
   "execution_count": 6,
   "id": "a812b33b",
   "metadata": {},
   "outputs": [
    {
     "data": {
      "text/plain": [
       "[[1, 2, 3], [2, 4, 6], [3, 6, 9]]"
      ]
     },
     "execution_count": 6,
     "metadata": {},
     "output_type": "execute_result"
    }
   ],
   "source": [
    "multiplication_table(3)"
   ]
  }
 ],
 "metadata": {
  "kernelspec": {
   "display_name": "Python 3 (ipykernel)",
   "language": "python",
   "name": "python3"
  },
  "language_info": {
   "codemirror_mode": {
    "name": "ipython",
    "version": 3
   },
   "file_extension": ".py",
   "mimetype": "text/x-python",
   "name": "python",
   "nbconvert_exporter": "python",
   "pygments_lexer": "ipython3",
   "version": "3.9.13"
  }
 },
 "nbformat": 4,
 "nbformat_minor": 5
}
