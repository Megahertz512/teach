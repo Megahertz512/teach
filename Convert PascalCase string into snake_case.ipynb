{
 "cells": [
  {
   "cell_type": "markdown",
   "id": "9fd9f467",
   "metadata": {},
   "source": [
    "DESCRIPTION:\n",
    "Complete the function/method so that it takes a PascalCase string and returns the string in snake_case notation. Lowercase characters can be numbers. If the method gets a number as input, it should return a string.\n",
    "\n",
    "Examples\n",
    "\"TestController\"  -->  \"test_controller\"\n",
    "\"MoviesAndBooks\"  -->  \"movies_and_books\"\n",
    "\"App7Test\"        -->  \"app7_test\"\n",
    "1                 -->  \"1\""
   ]
  },
  {
   "cell_type": "code",
   "execution_count": 10,
   "id": "c1e5247c",
   "metadata": {},
   "outputs": [],
   "source": [
    "def to_underscore(string):\n",
    "    string = str(string)\n",
    "    a = []\n",
    "    for i in string[1:]:\n",
    "        if i.lower() == i:\n",
    "            a.append(i)\n",
    "        else:\n",
    "            a.append('_' + i.lower())\n",
    "        \n",
    "    return string[0].lower() + ''.join(a)"
   ]
  },
  {
   "cell_type": "code",
   "execution_count": 8,
   "id": "d29954c6",
   "metadata": {},
   "outputs": [
    {
     "data": {
      "text/plain": [
       "'test_controller'"
      ]
     },
     "execution_count": 8,
     "metadata": {},
     "output_type": "execute_result"
    }
   ],
   "source": [
    "to_underscore(\"TestController\")"
   ]
  }
 ],
 "metadata": {
  "kernelspec": {
   "display_name": "Python 3 (ipykernel)",
   "language": "python",
   "name": "python3"
  },
  "language_info": {
   "codemirror_mode": {
    "name": "ipython",
    "version": 3
   },
   "file_extension": ".py",
   "mimetype": "text/x-python",
   "name": "python",
   "nbconvert_exporter": "python",
   "pygments_lexer": "ipython3",
   "version": "3.9.13"
  }
 },
 "nbformat": 4,
 "nbformat_minor": 5
}
