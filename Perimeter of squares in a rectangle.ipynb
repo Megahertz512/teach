{
 "cells": [
  {
   "cell_type": "markdown",
   "id": "8ee9c3bc",
   "metadata": {},
   "source": [
    "The drawing shows 6 squares the sides of which have a length of 1, 1, 2, 3, 5, 8. It's easy to see that the sum of the perimeters of these squares is : 4 * (1 + 1 + 2 + 3 + 5 + 8) = 4 * 20 = 80 \n",
    "\n",
    "Could you give the sum of the perimeters of all the squares in a rectangle when there are n + 1 squares disposed in the same manner as in the drawing:\n",
    "\n",
    "alternative text\n",
    "\n",
    "Hint:\n",
    "See Fibonacci sequence\n",
    "\n",
    "Ref:\n",
    "http://oeis.org/A000045\n",
    "\n",
    "The function perimeter has for parameter n where n + 1 is the number of squares (they are numbered from 0 to n) and returns the total perimeter of all the squares.\n",
    "\n",
    "perimeter(5)  should return 80\n",
    "perimeter(7)  should return 216\n"
   ]
  },
  {
   "cell_type": "code",
   "execution_count": null,
   "id": "ed68fb4a",
   "metadata": {},
   "outputs": [],
   "source": [
    "def perimeter(n):\n",
    "    if n== 0:\n",
    "        return 4\n",
    "    X = [1,1]\n",
    "    for i in range(n - 1):\n",
    "        X.append(X[-1] + X[-2])\n",
    "    return sum(X) * 4"
   ]
  },
  {
   "cell_type": "code",
   "execution_count": 20,
   "id": "4771bba0",
   "metadata": {},
   "outputs": [
    {
     "data": {
      "text/plain": [
       "2362425027542282167538999091770205712168371625660854753765546783141099308400948230006358531927265833165504"
      ]
     },
     "execution_count": 20,
     "metadata": {},
     "output_type": "execute_result"
    }
   ],
   "source": [
    "'{} '"
   ]
  }
 ],
 "metadata": {
  "kernelspec": {
   "display_name": "Python 3 (ipykernel)",
   "language": "python",
   "name": "python3"
  },
  "language_info": {
   "codemirror_mode": {
    "name": "ipython",
    "version": 3
   },
   "file_extension": ".py",
   "mimetype": "text/x-python",
   "name": "python",
   "nbconvert_exporter": "python",
   "pygments_lexer": "ipython3",
   "version": "3.9.13"
  }
 },
 "nbformat": 4,
 "nbformat_minor": 5
}
