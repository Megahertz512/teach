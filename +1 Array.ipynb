{
 "cells": [
  {
   "cell_type": "markdown",
   "id": "f34c6651",
   "metadata": {},
   "source": [
    "Given an array of integers of any length, return an array that has 1 added to the value represented by the array.\n",
    "\n",
    "the array can't be empty\n",
    "only non-negative, single digit integers are allowed\n",
    "Return nil (or your language's equivalent) for invalid inputs.\n",
    "\n",
    "Examples\n",
    "Valid arrays\n",
    "\n",
    "[4, 3, 2, 5] would return [4, 3, 2, 6]\n",
    "[1, 2, 3, 9] would return [1, 2, 4, 0]\n",
    "[9, 9, 9, 9] would return [1, 0, 0, 0, 0]\n",
    "[0, 1, 3, 7] would return [0, 1, 3, 8]\n",
    "\n",
    "Invalid arrays\n",
    "\n",
    "[1, -9] is invalid because -9 is not a non-negative integer\n",
    "\n",
    "[1, 2, 33] is invalid because 33 is not a single-digit integer"
   ]
  },
  {
   "cell_type": "code",
   "execution_count": 53,
   "id": "572d3cd1",
   "metadata": {},
   "outputs": [],
   "source": [
    "def up_array(arr):\n",
    "    if False in [j>=0 and j < 10 for j in arr] or arr == []:\n",
    "        return None\n",
    "    a = list(map(lambda a:int(a) ,[i for i in str((int(''.join(map(lambda a:str(a),arr))) + 1))]))\n",
    "    return (len(arr) - len(a)) * [0] + a"
   ]
  },
  {
   "cell_type": "code",
   "execution_count": 57,
   "id": "2a238f75",
   "metadata": {},
   "outputs": [
    {
     "data": {
      "text/plain": [
       "False"
      ]
     },
     "execution_count": 57,
     "metadata": {},
     "output_type": "execute_result"
    }
   ],
   "source": [
    "False in [j>=0 and j < 10 for j in []]"
   ]
  }
 ],
 "metadata": {
  "kernelspec": {
   "display_name": "Python 3 (ipykernel)",
   "language": "python",
   "name": "python3"
  },
  "language_info": {
   "codemirror_mode": {
    "name": "ipython",
    "version": 3
   },
   "file_extension": ".py",
   "mimetype": "text/x-python",
   "name": "python",
   "nbconvert_exporter": "python",
   "pygments_lexer": "ipython3",
   "version": "3.9.13"
  }
 },
 "nbformat": 4,
 "nbformat_minor": 5
}
