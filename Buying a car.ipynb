{
 "cells": [
  {
   "cell_type": "markdown",
   "id": "2d6650ef",
   "metadata": {},
   "source": [
    "DESCRIPTION:\n",
    "Let us begin with an example:\n",
    "\n",
    "A man has a rather old car being worth $2000. He saw a secondhand car being worth $8000. He wants to keep his old car until he can buy the secondhand one.\n",
    "\n",
    "He thinks he can save $1000 each month but the prices of his old car and of the new one decrease of 1.5 percent per month. Furthermore this percent of loss increases of 0.5 percent at the end of every two months. Our man finds it difficult to make all these calculations.\n",
    "\n",
    "Can you help him?\n",
    "\n",
    "How many months will it take him to save up enough money to buy the car he wants, and how much money will he have left over?\n",
    "\n",
    "Parameters and return of function:\n",
    "\n",
    "parameter (positive int or float, guaranteed) start_price_old (Old car price)\n",
    "parameter (positive int or float, guaranteed) start_price_new (New car price)\n",
    "parameter (positive int or float, guaranteed) saving_per_month \n",
    "parameter (positive float or int, guaranteed) percent_loss_by_month\n",
    "\n",
    "nbMonths(2000, 8000, 1000, 1.5) should return [6, 766] or (6, 766)\n",
    "Detail of the above example:\n",
    "end month 1: percent_loss 1.5 available -4910.0\n",
    "end month 2: percent_loss 2.0 available -3791.7999...\n",
    "end month 3: percent_loss 2.0 available -2675.964\n",
    "end month 4: percent_loss 2.5 available -1534.06489...\n",
    "end month 5: percent_loss 2.5 available -395.71327...\n",
    "end month 6: percent_loss 3.0 available 766.158120825...\n",
    "return [6, 766] or (6, 766)\n",
    "where 6 is the number of months at the end of which he can buy the new car and 766 is the nearest integer to 766.158... (rounding 766.158 gives 766).\n",
    "\n",
    "Note:\n",
    "\n",
    "Selling, buying and saving are normally done at end of month. Calculations are processed at the end of each considered month but if, by chance from the start, the value of the old car is bigger than the value of the new one or equal there is no saving to be made, no need to wait so he can at the beginning of the month buy the new car:\n",
    "\n",
    "nbMonths(12000, 8000, 1000, 1.5) should return [0, 4000]\n",
    "nbMonths(8000, 8000, 1000, 1.5) should return [0, 0]"
   ]
  },
  {
   "cell_type": "code",
   "execution_count": 4,
   "id": "24bb33a3",
   "metadata": {},
   "outputs": [],
   "source": [
    "def nbMonths(start_price_old, start_price_new, saving_per_month, percent_loss_by_month):\n",
    "    pas = 0\n",
    "    if start_price_old - start_price_new >= 0:\n",
    "        return[0, start_price_old - start_price_new ]\n",
    "    for i in range(1,200):\n",
    "        if i%2 == 0:\n",
    "            percent_loss_by_month = percent_loss_by_month + 0.5\n",
    "        start_price_old, start_price_new = start_price_old - (percent_loss_by_month / 100) * start_price_old,start_price_new - (percent_loss_by_month / 100) * start_price_new\n",
    "        pas += saving_per_month\n",
    "        darayee = pas + start_price_old - start_price_new\n",
    "        if darayee >= 0:\n",
    "            return [i, round(darayee)]"
   ]
  }
 ],
 "metadata": {
  "kernelspec": {
   "display_name": "Python 3 (ipykernel)",
   "language": "python",
   "name": "python3"
  },
  "language_info": {
   "codemirror_mode": {
    "name": "ipython",
    "version": 3
   },
   "file_extension": ".py",
   "mimetype": "text/x-python",
   "name": "python",
   "nbconvert_exporter": "python",
   "pygments_lexer": "ipython3",
   "version": "3.9.13"
  }
 },
 "nbformat": 4,
 "nbformat_minor": 5
}
