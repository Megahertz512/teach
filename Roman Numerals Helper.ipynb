{
 "cells": [
  {
   "cell_type": "markdown",
   "id": "9c609ec4",
   "metadata": {},
   "source": [
    "Write two functions that convert a roman numeral to and from an integer value. Multiple roman numeral values will be tested for each function.\n",
    "\n",
    "Modern Roman numerals are written by expressing each digit separately starting with the left most digit and skipping any digit with a value of zero. In Roman numerals 1990 is rendered: 1000=M, 900=CM, 90=XC; resulting in MCMXC. 2008 is written as 2000=MM, 8=VIII; or MMVIII. 1666 uses each Roman symbol in descending order: MDCLXVI.\n",
    "\n",
    "Input range : 1 <= n < 4000\n",
    "\n",
    "In this kata 4 should be represented as IV, NOT as IIII (the \"watchmaker's four\").\n",
    "Examples\n",
    "to roman:\n",
    "2000 -> \"MM\"\n",
    "1666 -> \"MDCLXVI\"\n",
    "1000 -> \"M\"\n",
    " 400 -> \"CD\"\n",
    "  90 -> \"XC\"\n",
    "  40 -> \"XL\"\n",
    "   1 -> \"I\"\n",
    "\n",
    "from roman:\n",
    "\"MM\"      -> 2000\n",
    "\"MDCLXVI\" -> 1666\n",
    "\"M\"       -> 1000\n",
    "\"CD\"      -> 400\n",
    "\"XC\"      -> 90\n",
    "\"XL\"      -> 40\n",
    "\"I\"       -> 1\n",
    "Help\n",
    "Symbol\tValue\n",
    "I\t1\n",
    "IV\t4\n",
    "V\t5\n",
    "X\t10\n",
    "L\t50\n",
    "C\t100\n",
    "D\t500\n",
    "M\t1000\n"
   ]
  },
  {
   "cell_type": "code",
   "execution_count": 37,
   "id": "791a7ce3",
   "metadata": {},
   "outputs": [],
   "source": [
    "class RomanNumerals:\n",
    "    @staticmethod\n",
    "    def to_roman(val):\n",
    "        x = str(val)\n",
    "        b = ''\n",
    "        L = [{'1':'I', '2':'II', '3':'III', '4':'IV', '5':'V', '6':'VI', '7':'VII', '8':'VIII', '9':'IX', '0':''},{'1':'X', '2':'XX' , '3':'XXX', '4':'XL', '5':'L', '6':'LX', '7':'LXX', '8':'LXXX', '9':'XC', '0':''},{'1':'C', '2':'CC', '3':'CCC', '4':'CD', '5':'D', '6':'DC', '7':'DCC', '8':'DCCC', '9':'CM', '0':''},{'1':'M', '2':'MM', '3':'MMM'}]\n",
    "        for i in range(len(x) - 1, -1 , -1):\n",
    "            b = L[len(x) - 1- i][x[i]] + b\n",
    "        return b\n",
    "\n",
    "    @staticmethod\n",
    "    def from_roman(roman_num):\n",
    "        r2 = {'I':1 , 'V':5 , 'X':10 , 'L':50 , 'C':100 , 'D':500 , 'M':1000}\n",
    "        num = r2[roman_num[-1]]\n",
    "        for i in range(len(roman_num) - 2, -1 , -1):\n",
    "            if r2[roman_num[i]] < r2[roman_num[i + 1]]:\n",
    "                num -= r2[roman_num[i]]\n",
    "            else:\n",
    "                num += r2[roman_num[i]]\n",
    "        return num"
   ]
  }
 ],
 "metadata": {
  "kernelspec": {
   "display_name": "Python 3 (ipykernel)",
   "language": "python",
   "name": "python3"
  },
  "language_info": {
   "codemirror_mode": {
    "name": "ipython",
    "version": 3
   },
   "file_extension": ".py",
   "mimetype": "text/x-python",
   "name": "python",
   "nbconvert_exporter": "python",
   "pygments_lexer": "ipython3",
   "version": "3.9.13"
  }
 },
 "nbformat": 4,
 "nbformat_minor": 5
}
