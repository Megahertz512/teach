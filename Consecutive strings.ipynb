{
 "cells": [
  {
   "cell_type": "markdown",
   "id": "4890b986",
   "metadata": {},
   "source": [
    "You are given an array(list) strarr of strings and an integer k. Your task is to return the first longest string consisting of k consecutive strings taken in the array.\n",
    "\n",
    "Examples:\n",
    "strarr = [\"tree\", \"foling\", \"trashy\", \"blue\", \"abcdef\", \"uvwxyz\"], k = 2\n",
    "\n",
    "Concatenate the consecutive strings of strarr by 2, we get:\n",
    "\n",
    "treefoling   (length 10)  concatenation of strarr[0] and strarr[1]\n",
    "folingtrashy (\"      12)  concatenation of strarr[1] and strarr[2]\n",
    "trashyblue   (\"      10)  concatenation of strarr[2] and strarr[3]\n",
    "blueabcdef   (\"      10)  concatenation of strarr[3] and strarr[4]\n",
    "abcdefuvwxyz (\"      12)  concatenation of strarr[4] and strarr[5]\n",
    "\n",
    "Two strings are the longest: \"folingtrashy\" and \"abcdefuvwxyz\".\n",
    "The first that came is \"folingtrashy\" so \n",
    "longest_consec(strarr, 2) should return \"folingtrashy\".\n",
    "\n",
    "In the same way:\n",
    "longest_consec([\"zone\", \"abigail\", \"theta\", \"form\", \"libe\", \"zas\", \"theta\", \"abigail\"], 2) --> \"abigailtheta\"\n",
    "n being the length of the string array, if n = 0 or k > n or k <= 0 return \"\" (return Nothing in Elm, \"nothing\" in Erlang).\n",
    "\n",
    "Note\n",
    "consecutive strings : follow one after another without an interruption"
   ]
  },
  {
   "cell_type": "code",
   "execution_count": 14,
   "id": "ca419042",
   "metadata": {},
   "outputs": [],
   "source": [
    "def longest_consec(strarr, k):\n",
    "    n = len(strarr)\n",
    "    if n == 0 or k > n or k <= 0:\n",
    "        return None\n",
    "    a = []\n",
    "    for i in range(n - k + 1):\n",
    "        b = ''\n",
    "        for j in range(k):\n",
    "            b += strarr[i+j]\n",
    "        a.append(b)\n",
    "    for i in a:\n",
    "        if len(i) == max(list(map(lambda x:len(x),a))):\n",
    "            return i\n",
    "        "
   ]
  },
  {
   "cell_type": "code",
   "execution_count": 12,
   "id": "6de33649",
   "metadata": {},
   "outputs": [
    {
     "data": {
      "text/plain": [
       "['zoneabigail',\n",
       " 'abigailtheta',\n",
       " 'thetaform',\n",
       " 'formlibe',\n",
       " 'libezas',\n",
       " 'zastheta',\n",
       " 'thetaabigail']"
      ]
     },
     "execution_count": 12,
     "metadata": {},
     "output_type": "execute_result"
    }
   ],
   "source": [
    "longest_consec([\"zone\", \"abigail\", \"theta\", \"form\", \"libe\", \"zas\", \"theta\", \"abigail\"], 2)"
   ]
  }
 ],
 "metadata": {
  "kernelspec": {
   "display_name": "Python 3 (ipykernel)",
   "language": "python",
   "name": "python3"
  },
  "language_info": {
   "codemirror_mode": {
    "name": "ipython",
    "version": 3
   },
   "file_extension": ".py",
   "mimetype": "text/x-python",
   "name": "python",
   "nbconvert_exporter": "python",
   "pygments_lexer": "ipython3",
   "version": "3.9.13"
  }
 },
 "nbformat": 4,
 "nbformat_minor": 5
}
