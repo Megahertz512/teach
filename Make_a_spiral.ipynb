{
 "cells": [
  {
   "cell_type": "markdown",
   "metadata": {},
   "source": [
    "Your task, is to create a NxN spiral with a given size.\n",
    "\n",
    "For example, spiral with size 5 should look like this:\n",
    "\n",
    "00000\n",
    "....0\n",
    "000.0\n",
    "0...0\n",
    "00000\n",
    "and with the size 10:\n",
    "\n",
    "0000000000\n",
    ".........0\n",
    "00000000.0\n",
    "0......0.0\n",
    "0.0000.0.0\n",
    "0.0..0.0.0\n",
    "0.0....0.0\n",
    "0.000000.0\n",
    "0........0\n",
    "0000000000\n",
    "Return value should contain array of arrays, of 0 and 1, with the first row being composed of 1s. For example for given size 5 result should be:\n",
    "\n",
    "[[1,1,1,1,1],[0,0,0,0,1],[1,1,1,0,1],[1,0,0,0,1],[1,1,1,1,1]]\n",
    "Because of the edge-cases for tiny spirals, the size will be at least 5.\n",
    "\n",
    "General rule-of-a-thumb is, that the snake made with '1' cannot touch to itself."
   ]
  },
  {
   "cell_type": "code",
   "execution_count": 69,
   "metadata": {},
   "outputs": [],
   "source": [
    "def spiralize(size):\n",
    "    if size == 1:\n",
    "        return [[1]]\n",
    "    elif size == 0:\n",
    "        return []\n",
    "    else:\n",
    "        change = lambda x: [[1 if x[i][j] == 0 else 0 for j in range(len(x))] for i in range(len(x))]\n",
    "        z = change(spiralize(size - 2))\n",
    "        a = [[1]*size] + [ [1] + z[i] +[1] if i != 0 else [0] + z[i] +[1]  for i in range(size - 2)] + [[1]*size]\n",
    "        return a"
   ]
  },
  {
   "cell_type": "code",
   "execution_count": 3,
   "metadata": {},
   "outputs": [],
   "source": [
    "def spiralize(size):\n",
    "    if size == 0:\n",
    "        return []\n",
    "        \n",
    "    spiral = [[0] * size for _ in range(size)]\n",
    "    directions = [(0, 1), (1, 0), (0, -1), (-1, 0)]\n",
    "    direction_index = 0\n",
    "    row, col = 0, 0\n",
    "\n",
    "    for i in range(size * size):\n",
    "        spiral[row][col] = 1\n",
    "\n",
    "        next_row = row + directions[direction_index][0]\n",
    "        next_col = col + directions[direction_index][1]\n",
    "\n",
    "        if (next_row < 0 or next_row >= size or next_col < 0 or next_col >= size\n",
    "                or spiral[next_row][next_col] == 1):\n",
    "            direction_index = (direction_index + 1) % 4\n",
    "\n",
    "        row += directions[direction_index][0]\n",
    "        col += directions[direction_index][1]\n",
    "\n",
    "    return spiral\n"
   ]
  },
  {
   "cell_type": "code",
   "execution_count": 4,
   "metadata": {},
   "outputs": [
    {
     "data": {
      "text/plain": [
       "[[1, 1, 1, 1, 1, 1],\n",
       " [1, 1, 1, 1, 1, 1],\n",
       " [1, 1, 1, 1, 1, 1],\n",
       " [1, 1, 1, 1, 1, 1],\n",
       " [1, 1, 1, 1, 1, 1],\n",
       " [1, 1, 1, 1, 1, 1]]"
      ]
     },
     "execution_count": 4,
     "metadata": {},
     "output_type": "execute_result"
    }
   ],
   "source": [
    "spiralize(6)"
   ]
  },
  {
   "cell_type": "code",
   "execution_count": 5,
   "metadata": {},
   "outputs": [
    {
     "name": "stdout",
     "output_type": "stream",
     "text": [
      "[1, 1, 1, 1, 1, 1, 1, 1]\n",
      "[1, 1, 1, 1, 1, 1, 1, 1]\n",
      "[1, 1, 1, 1, 1, 1, 1, 1]\n",
      "[1, 1, 1, 1, 1, 1, 1, 1]\n",
      "[1, 1, 1, 1, 1, 1, 1, 1]\n",
      "[1, 1, 1, 1, 1, 1, 1, 1]\n",
      "[1, 1, 1, 1, 1, 1, 1, 1]\n",
      "[1, 1, 1, 1, 1, 1, 1, 1]\n"
     ]
    }
   ],
   "source": [
    "for i in spiralize(8):\n",
    "    print(i)"
   ]
  },
  {
   "cell_type": "code",
   "execution_count": 7,
   "metadata": {},
   "outputs": [
    {
     "data": {
      "text/plain": [
       "[[1, 0, 0], [0, 0, 0], [0, 0, 0]]"
      ]
     },
     "execution_count": 7,
     "metadata": {},
     "output_type": "execute_result"
    }
   ],
   "source": [
    "size = 3\n",
    "change = lambda x: [[1 if x[i][j] == 0 else 0 for i in range(size)] for j in range(size)]\n",
    "change([[0,1,1],[1,1,1],[1,1,1]])\n"
   ]
  }
 ],
 "metadata": {
  "kernelspec": {
   "display_name": "base",
   "language": "python",
   "name": "python3"
  },
  "language_info": {
   "codemirror_mode": {
    "name": "ipython",
    "version": 3
   },
   "file_extension": ".py",
   "mimetype": "text/x-python",
   "name": "python",
   "nbconvert_exporter": "python",
   "pygments_lexer": "ipython3",
   "version": "3.9.13"
  },
  "orig_nbformat": 4
 },
 "nbformat": 4,
 "nbformat_minor": 2
}
